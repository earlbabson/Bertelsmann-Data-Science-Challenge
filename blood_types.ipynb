{
 "cells": [
  {
   "cell_type": "code",
   "execution_count": 1,
   "metadata": {},
   "outputs": [],
   "source": [
    "import pandas as pd\n",
    "import matplotlib.pyplot as plt"
   ]
  },
  {
   "cell_type": "code",
   "execution_count": 2,
   "metadata": {},
   "outputs": [],
   "source": [
    "def get_table(df, column_name):\n",
    "    \"\"\"The function takes in a .csv file and returns a frequency table \n",
    "    with three columns – \n",
    "    Freq (Frequency), P (Proportion), and % (Percentage).\n",
    "    \"\"\"\n",
    "    \n",
    "    df = pd.read_csv(df)\n",
    "    freq = pd.value_counts(df[column_name]) # get counts for each unique value\n",
    "    # print(type(freq))\n",
    "    counts = freq.to_frame() # convert a Series object to a dataframe\n",
    "    counts.index.name = column_name # name the index column\n",
    "    counts.columns = ['Freq'] # name the counts column\n",
    "\n",
    "    # add the proportion and percentage columns\n",
    "    counts['P'] = round(counts['Freq'] / counts['Freq'].sum(), 2) \n",
    "    counts['%'] = counts['P'] * 100\n",
    "\n",
    "    counts.loc['Total'] = counts.sum(axis = 0) # add the Total row\n",
    "    \n",
    "    return counts"
   ]
  },
  {
   "cell_type": "code",
   "execution_count": 3,
   "metadata": {},
   "outputs": [
    {
     "data": {
      "image/png": "[encoded data removed]",
      "text/plain": [
       "<Figure size 540x360 with 1 Axes>"
      ]
     },
     "metadata": {},
     "output_type": "display_data"
    }
   ],
   "source": [
    "result = get_table('datasets/blood_types.csv', 'Blood Type')\n",
    "\n",
    "with plt.style.context(\"seaborn-whitegrid\"):\n",
    "    plt.figure(figsize=(7.5,5))\n",
    "    plt.plot(result.loc['O':'AB', 'Freq'], color='orange')\n",
    "    plt.show()"
   ]
  },
  {
   "cell_type": "code",
   "execution_count": 4,
   "metadata": {},
   "outputs": [
    {
     "data": {
      "text/html": [
       "<style  type=\"text/css\" >\n",
       "    #T_262df25a_8847_11e8_8ffc_dc5360557d87row4_col0 {\n",
       "            background:  lightgreen;\n",
       "        }    #T_262df25a_8847_11e8_8ffc_dc5360557d87row4_col1 {\n",
       "            background:  lightgreen;\n",
       "        }    #T_262df25a_8847_11e8_8ffc_dc5360557d87row4_col2 {\n",
       "            background:  lightgreen;\n",
       "        }</style>  \n",
       "<table id=\"T_262df25a_8847_11e8_8ffc_dc5360557d87\" > \n",
       "<thead>    <tr> \n",
       "        <th class=\"blank level0\" ></th> \n",
       "        <th class=\"col_heading level0 col0\" >Freq</th> \n",
       "        <th class=\"col_heading level0 col1\" >P</th> \n",
       "        <th class=\"col_heading level0 col2\" >%</th> \n",
       "    </tr>    <tr> \n",
       "        <th class=\"index_name level0\" >Blood Type</th> \n",
       "        <th class=\"blank\" ></th> \n",
       "        <th class=\"blank\" ></th> \n",
       "        <th class=\"blank\" ></th> \n",
       "    </tr></thead> \n",
       "<tbody>    <tr> \n",
       "        <th id=\"T_262df25a_8847_11e8_8ffc_dc5360557d87level0_row0\" class=\"row_heading level0 row0\" >O</th> \n",
       "        <td id=\"T_262df25a_8847_11e8_8ffc_dc5360557d87row0_col0\" class=\"data row0 col0\" >16</td> \n",
       "        <td id=\"T_262df25a_8847_11e8_8ffc_dc5360557d87row0_col1\" class=\"data row0 col1\" >0.46</td> \n",
       "        <td id=\"T_262df25a_8847_11e8_8ffc_dc5360557d87row0_col2\" class=\"data row0 col2\" >46</td> \n",
       "    </tr>    <tr> \n",
       "        <th id=\"T_262df25a_8847_11e8_8ffc_dc5360557d87level0_row1\" class=\"row_heading level0 row1\" >A</th> \n",
       "        <td id=\"T_262df25a_8847_11e8_8ffc_dc5360557d87row1_col0\" class=\"data row1 col0\" >13</td> \n",
       "        <td id=\"T_262df25a_8847_11e8_8ffc_dc5360557d87row1_col1\" class=\"data row1 col1\" >0.37</td> \n",
       "        <td id=\"T_262df25a_8847_11e8_8ffc_dc5360557d87row1_col2\" class=\"data row1 col2\" >37</td> \n",
       "    </tr>    <tr> \n",
       "        <th id=\"T_262df25a_8847_11e8_8ffc_dc5360557d87level0_row2\" class=\"row_heading level0 row2\" >B</th> \n",
       "        <td id=\"T_262df25a_8847_11e8_8ffc_dc5360557d87row2_col0\" class=\"data row2 col0\" >4</td> \n",
       "        <td id=\"T_262df25a_8847_11e8_8ffc_dc5360557d87row2_col1\" class=\"data row2 col1\" >0.11</td> \n",
       "        <td id=\"T_262df25a_8847_11e8_8ffc_dc5360557d87row2_col2\" class=\"data row2 col2\" >11</td> \n",
       "    </tr>    <tr> \n",
       "        <th id=\"T_262df25a_8847_11e8_8ffc_dc5360557d87level0_row3\" class=\"row_heading level0 row3\" >AB</th> \n",
       "        <td id=\"T_262df25a_8847_11e8_8ffc_dc5360557d87row3_col0\" class=\"data row3 col0\" >2</td> \n",
       "        <td id=\"T_262df25a_8847_11e8_8ffc_dc5360557d87row3_col1\" class=\"data row3 col1\" >0.06</td> \n",
       "        <td id=\"T_262df25a_8847_11e8_8ffc_dc5360557d87row3_col2\" class=\"data row3 col2\" >6</td> \n",
       "    </tr>    <tr> \n",
       "        <th id=\"T_262df25a_8847_11e8_8ffc_dc5360557d87level0_row4\" class=\"row_heading level0 row4\" >Total</th> \n",
       "        <td id=\"T_262df25a_8847_11e8_8ffc_dc5360557d87row4_col0\" class=\"data row4 col0\" >35</td> \n",
       "        <td id=\"T_262df25a_8847_11e8_8ffc_dc5360557d87row4_col1\" class=\"data row4 col1\" >1</td> \n",
       "        <td id=\"T_262df25a_8847_11e8_8ffc_dc5360557d87row4_col2\" class=\"data row4 col2\" >100</td> \n",
       "    </tr></tbody> \n",
       "</table> "
      ],
      "text/plain": [
       "<pandas.io.formats.style.Styler at 0x7f7982ab66a0>"
      ]
     },
     "execution_count": 4,
     "metadata": {},
     "output_type": "execute_result"
    }
   ],
   "source": [
    "# highlight the Total row (the total values we get are correct)\n",
    "result = result.style.apply(lambda x: ['background: lightgreen' if x.name == 'Total' else '' for i in x], axis = 1)\n",
    "result"
   ]
  }
 ],
 "metadata": {
  "kernelspec": {
   "display_name": "Python 3",
   "language": "python",
   "name": "python3"
  },
  "language_info": {
   "codemirror_mode": {
    "name": "ipython",
    "version": 3
   },
   "file_extension": ".py",
   "mimetype": "text/x-python",
   "name": "python",
   "nbconvert_exporter": "python",
   "pygments_lexer": "ipython3",
   "version": "3.6.5"
  }
 },
 "nbformat": 4,
 "nbformat_minor": 2
}
