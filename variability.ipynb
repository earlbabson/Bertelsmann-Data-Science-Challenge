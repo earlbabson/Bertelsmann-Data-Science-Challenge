{
 "cells": [
  {
   "cell_type": "markdown",
   "metadata": {},
   "source": [
    "## Lesson 13: Variability"
   ]
  },
  {
   "cell_type": "code",
   "execution_count": 1,
   "metadata": {},
   "outputs": [],
   "source": [
    "import numpy as np"
   ]
  },
  {
   "cell_type": "code",
   "execution_count": 2,
   "metadata": {},
   "outputs": [
    {
     "name": "stdout",
     "output_type": "stream",
     "text": [
      "The mean is 52793.8\n"
     ]
    }
   ],
   "source": [
    "# NumPy arrays are great for doing math operations over every element\n",
    "data = np.array([33219,36254,38801,46335,46840,47596,55130,56863,78070,88830])\n",
    "\n",
    "mean = np.mean(data) # calculate the mean\n",
    "print('The mean is {:g}'.format(mean))"
   ]
  },
  {
   "cell_type": "code",
   "execution_count": 3,
   "metadata": {},
   "outputs": [
    {
     "name": "stdout",
     "output_type": "stream",
     "text": [
      "[-19574.8 -16539.8 -13992.8  -6458.8  -5953.8  -5197.8   2336.2   4069.2\n",
      "  25276.2  36036.2]\n"
     ]
    }
   ],
   "source": [
    "devs = data - mean # deviations from the mean\n",
    "print(devs)"
   ]
  },
  {
   "cell_type": "code",
   "execution_count": 4,
   "metadata": {},
   "outputs": [
    {
     "name": "stdout",
     "output_type": "stream",
     "text": [
      "The average deviation equals -0.000000000002910\n"
     ]
    }
   ],
   "source": [
    "avg_dev = np.sum(devs)/len(data) # calculate the average deviation\n",
    "\n",
    "# the number we get is practically zero\n",
    "print('The average deviation equals {:.15f}'.format(avg_dev))"
   ]
  },
  {
   "cell_type": "code",
   "execution_count": 5,
   "metadata": {},
   "outputs": [
    {
     "name": "stdout",
     "output_type": "stream",
     "text": [
      "[19574.8 16539.8 13992.8  6458.8  5953.8  5197.8  2336.2  4069.2 25276.2\n",
      " 36036.2]\n"
     ]
    }
   ],
   "source": [
    "abs_devs = np.absolute(devs) # convert to absolute values\n",
    "print(abs_devs)"
   ]
  },
  {
   "cell_type": "code",
   "execution_count": 6,
   "metadata": {},
   "outputs": [
    {
     "name": "stdout",
     "output_type": "stream",
     "text": [
      "The average absolute deviation equals 13543.56\n"
     ]
    }
   ],
   "source": [
    "avg_absdev = np.sum(abs_devs)/len(data)\n",
    "print('The average absolute deviation equals {:.2f}'.format(avg_absdev))"
   ]
  },
  {
   "cell_type": "code",
   "execution_count": 7,
   "metadata": {},
   "outputs": [
    {
     "name": "stdout",
     "output_type": "stream",
     "text": [
      "[3.83172795e+08 2.73564984e+08 1.95798452e+08 4.17160974e+07\n",
      " 3.54477344e+07 2.70171248e+07 5.45783044e+06 1.65583886e+07\n",
      " 6.38886286e+08 1.29860771e+09]\n"
     ]
    }
   ],
   "source": [
    "sq_devs = devs**2 # calculate squared deviations\n",
    "print(sq_devs)"
   ]
  },
  {
   "cell_type": "code",
   "execution_count": 8,
   "metadata": {},
   "outputs": [
    {
     "name": "stdout",
     "output_type": "stream",
     "text": [
      "The average squared deviation (variance) equals 291622740.36\n",
      "The standard deviation equals 17076.97\n"
     ]
    }
   ],
   "source": [
    "variance = np.sum(sq_devs)/len(data)\n",
    "print('The average squared deviation (variance) equals {:.2f}'.format(variance))\n",
    "\n",
    "print('The standard deviation equals {:.2f}'.format(np.sqrt(variance)))"
   ]
  },
  {
   "cell_type": "markdown",
   "metadata": {},
   "source": [
    "### What if we write a function? 🤔"
   ]
  },
  {
   "cell_type": "code",
   "execution_count": 9,
   "metadata": {},
   "outputs": [],
   "source": [
    "def calculate_std(array):\n",
    "    \"\"\"This function takes in data in the form of a NumPy array and returns\n",
    "    its standard deviation\n",
    "    \"\"\"\n",
    "    mean = np.mean(array)\n",
    "    devs = array - mean\n",
    "    sq_devs = devs**2\n",
    "    variance = np.sum(sq_devs)/len(array)\n",
    "    std = np.sqrt(variance)\n",
    "    return std"
   ]
  },
  {
   "cell_type": "code",
   "execution_count": 10,
   "metadata": {},
   "outputs": [
    {
     "name": "stdout",
     "output_type": "stream",
     "text": [
      "The standard deviation equals 6557.16\n"
     ]
    }
   ],
   "source": [
    "# the dataset from Quiz: SD Social Networkers\n",
    "sna_data = np.array([38946,43420,49191,50430,50557,52580,53595,54135,60181,62076])\n",
    "\n",
    "result = calculate_std(sna_data)\n",
    "print('The standard deviation equals {:.2f}'.format(result))"
   ]
  },
  {
   "cell_type": "markdown",
   "metadata": {},
   "source": [
    "### How did we do?"
   ]
  },
  {
   "cell_type": "markdown",
   "metadata": {},
   "source": [
    "We can check if our calculations are correct by using NumPy's built-in function that computes std - "
   ]
  },
  {
   "cell_type": "code",
   "execution_count": 11,
   "metadata": {},
   "outputs": [
    {
     "name": "stdout",
     "output_type": "stream",
     "text": [
      "The standard deviation equals 6557.16\n"
     ]
    }
   ],
   "source": [
    "print('The standard deviation equals {:.2f}'.format(np.std(sna_data)))"
   ]
  },
  {
   "cell_type": "markdown",
   "metadata": {},
   "source": [
    "### Quiz: Spreadsheet SD"
   ]
  },
  {
   "cell_type": "code",
   "execution_count": 12,
   "metadata": {},
   "outputs": [],
   "source": [
    "from numpy import genfromtxt"
   ]
  },
  {
   "cell_type": "code",
   "execution_count": 13,
   "metadata": {},
   "outputs": [
    {
     "data": {
      "text/plain": [
       "array([     nan, 59147.29, 61379.14, 55683.19, 56272.76, 52055.88,\n",
       "       47696.74, 60577.53, 49793.44, 35562.29, 58586.76, 47091.37,\n",
       "       36906.96, 53479.66, 67834.74, 53018.8 , 60375.11, 36566.91,\n",
       "       52905.58, 51063.31, 65431.26, 57071.83, 30060.59, 42619.62,\n",
       "       52984.77, 57871.28, 41274.37, 24497.78, 47939.82, 42755.52,\n",
       "       57189.35, 37216.45, 44742.99, 47119.04, 59269.48, 53336.8 ,\n",
       "       39719.54, 69473.2 , 39831.55, 58300.7 , 41726.66, 40283.35,\n",
       "       59652.4 , 40326.61, 28167.31, 51420.36, 55294.22, 48116.14,\n",
       "       36780.47, 53628.89, 48782.09, 33615.77, 41881.34, 64745.33,\n",
       "       53482.58, 48838.54, 57031.73, 62821.03, 60627.78, 46568.52,\n",
       "       38977.05, 43250.62, 67502.5 , 54696.18, 43003.14, 29156.83,\n",
       "       61230.07, 56749.93, 48373.77, 52428.26, 29961.91, 54524.28,\n",
       "       83017.28, 49290.55, 56375.66, 64032.27, 52947.6 , 61210.22,\n",
       "       54438.94, 48825.68, 54118.71, 45305.73, 42361.59, 52852.52,\n",
       "       62933.52, 64330.23, 48922.74, 27211.96, 62409.65, 28981.92,\n",
       "       64913.67, 55766.  , 50748.04, 43990.34, 61828.33, 45434.02,\n",
       "       45369.16, 54710.71, 62222.43, 44764.32, 50973.48])"
      ]
     },
     "execution_count": 13,
     "metadata": {},
     "output_type": "execute_result"
    }
   ],
   "source": [
    "salaries = genfromtxt('datasets/SNA_salaries.csv', delimiter = ',')\n",
    "salaries"
   ]
  },
  {
   "cell_type": "code",
   "execution_count": 14,
   "metadata": {},
   "outputs": [
    {
     "data": {
      "text/plain": [
       "array([59147.29, 61379.14, 55683.19, 56272.76, 52055.88, 47696.74,\n",
       "       60577.53, 49793.44, 35562.29, 58586.76, 47091.37, 36906.96,\n",
       "       53479.66, 67834.74, 53018.8 , 60375.11, 36566.91, 52905.58,\n",
       "       51063.31, 65431.26, 57071.83, 30060.59, 42619.62, 52984.77,\n",
       "       57871.28, 41274.37, 24497.78, 47939.82, 42755.52, 57189.35,\n",
       "       37216.45, 44742.99, 47119.04, 59269.48, 53336.8 , 39719.54,\n",
       "       69473.2 , 39831.55, 58300.7 , 41726.66, 40283.35, 59652.4 ,\n",
       "       40326.61, 28167.31, 51420.36, 55294.22, 48116.14, 36780.47,\n",
       "       53628.89, 48782.09, 33615.77, 41881.34, 64745.33, 53482.58,\n",
       "       48838.54, 57031.73, 62821.03, 60627.78, 46568.52, 38977.05,\n",
       "       43250.62, 67502.5 , 54696.18, 43003.14, 29156.83, 61230.07,\n",
       "       56749.93, 48373.77, 52428.26, 29961.91, 54524.28, 83017.28,\n",
       "       49290.55, 56375.66, 64032.27, 52947.6 , 61210.22, 54438.94,\n",
       "       48825.68, 54118.71, 45305.73, 42361.59, 52852.52, 62933.52,\n",
       "       64330.23, 48922.74, 27211.96, 62409.65, 28981.92, 64913.67,\n",
       "       55766.  , 50748.04, 43990.34, 61828.33, 45434.02, 45369.16,\n",
       "       54710.71, 62222.43, 44764.32, 50973.48])"
      ]
     },
     "execution_count": 14,
     "metadata": {},
     "output_type": "execute_result"
    }
   ],
   "source": [
    "salaries = salaries[~np.isnan(salaries)] # remove NaNs\n",
    "salaries"
   ]
  },
  {
   "cell_type": "code",
   "execution_count": 15,
   "metadata": {},
   "outputs": [
    {
     "name": "stdout",
     "output_type": "stream",
     "text": [
      "The standard deviation equals 10656.95\n"
     ]
    }
   ],
   "source": [
    "SNA_std = calculate_std(salaries)\n",
    "print('The standard deviation equals {:.2f}'.format(SNA_std))"
   ]
  },
  {
   "cell_type": "markdown",
   "metadata": {},
   "source": [
    "### Bessel's Correction"
   ]
  },
  {
   "cell_type": "code",
   "execution_count": 16,
   "metadata": {},
   "outputs": [],
   "source": [
    "sample = np.array([18,21,15,18,17,21,22,23,20])\n",
    "\n",
    "# calculate standard deviation for the sample data; modify the calculate_std() function\n",
    "# if you want to get an estimate for the population standard deviation"
   ]
  }
 ],
 "metadata": {
  "kernelspec": {
   "display_name": "Python 3",
   "language": "python",
   "name": "python3"
  },
  "language_info": {
   "codemirror_mode": {
    "name": "ipython",
    "version": 3
   },
   "file_extension": ".py",
   "mimetype": "text/x-python",
   "name": "python",
   "nbconvert_exporter": "python",
   "pygments_lexer": "ipython3",
   "version": "3.6.5"
  }
 },
 "nbformat": 4,
 "nbformat_minor": 2
}
